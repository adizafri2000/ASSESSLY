{
  "nbformat": 4,
  "nbformat_minor": 0,
  "metadata": {
    "colab": {
      "name": "ASSESLY.ipynb",
      "provenance": [],
      "collapsed_sections": []
    },
    "kernelspec": {
      "name": "python3",
      "display_name": "Python 3"
    },
    "language_info": {
      "name": "python"
    }
  },
  "cells": [
    {
      "cell_type": "code",
      "metadata": {
        "id": "8M5lpDk_679i"
      },
      "source": [
        "import pandas as pd\n",
        "import plotly.express as px\n",
        "\n",
        "import numpy as np\n",
        "import pandas as pd\n",
        "from matplotlib import pyplot as plt\n",
        "from sklearn.cluster import KMeans\n",
        "from sklearn.preprocessing import StandardScaler"
      ],
      "execution_count": null,
      "outputs": []
    },
    {
      "cell_type": "markdown",
      "metadata": {
        "id": "-LCnDndY-nkm"
      },
      "source": [
        "# Import data "
      ]
    },
    {
      "cell_type": "code",
      "metadata": {
        "id": "Bhgtssu48nyd"
      },
      "source": [
        "# import data from xlsx to dataframe\n",
        "\n",
        "student_result_maths = pd.read_excel (r'/content/StudentResult_Mathematics.xlsx')\n",
        "student_result_science = pd.read_excel (r'/content/StudentResult_Science.xlsx')\n",
        "student_result_sejarah = pd.read_excel (r'/content/StudentResult_Sejarah.xlsx')"
      ],
      "execution_count": null,
      "outputs": []
    },
    {
      "cell_type": "code",
      "metadata": {
        "colab": {
          "base_uri": "https://localhost:8080/",
          "height": 419
        },
        "id": "kqmbHh1L-ZOo",
        "outputId": "57bb557c-4333-4a5b-d378-d888d7e3ceb7"
      },
      "source": [
        "student_result_maths"
      ],
      "execution_count": null,
      "outputs": [
        {
          "output_type": "execute_result",
          "data": {
            "text/html": [
              "<div>\n",
              "<style scoped>\n",
              "    .dataframe tbody tr th:only-of-type {\n",
              "        vertical-align: middle;\n",
              "    }\n",
              "\n",
              "    .dataframe tbody tr th {\n",
              "        vertical-align: top;\n",
              "    }\n",
              "\n",
              "    .dataframe thead th {\n",
              "        text-align: right;\n",
              "    }\n",
              "</style>\n",
              "<table border=\"1\" class=\"dataframe\">\n",
              "  <thead>\n",
              "    <tr style=\"text-align: right;\">\n",
              "      <th></th>\n",
              "      <th>Student Name</th>\n",
              "      <th>Class</th>\n",
              "      <th>E1</th>\n",
              "      <th>E2</th>\n",
              "      <th>E3</th>\n",
              "      <th>Final</th>\n",
              "      <th>Quiz</th>\n",
              "      <th>Attendance</th>\n",
              "      <th>Performance Group</th>\n",
              "    </tr>\n",
              "  </thead>\n",
              "  <tbody>\n",
              "    <tr>\n",
              "      <th>0</th>\n",
              "      <td>ABDUL MUHAIMIN SYAHIR BIN AMINUDDIN</td>\n",
              "      <td>4 Iltizam</td>\n",
              "      <td>61</td>\n",
              "      <td>54</td>\n",
              "      <td>95</td>\n",
              "      <td>73</td>\n",
              "      <td>2</td>\n",
              "      <td>88</td>\n",
              "      <td>C</td>\n",
              "    </tr>\n",
              "    <tr>\n",
              "      <th>1</th>\n",
              "      <td>ADAM ISKANDAR BIN AHMAD FAISAL</td>\n",
              "      <td>4 Iltizam</td>\n",
              "      <td>94</td>\n",
              "      <td>97</td>\n",
              "      <td>96</td>\n",
              "      <td>63</td>\n",
              "      <td>10</td>\n",
              "      <td>89</td>\n",
              "      <td>C</td>\n",
              "    </tr>\n",
              "    <tr>\n",
              "      <th>2</th>\n",
              "      <td>AFIQ SYAMIL</td>\n",
              "      <td>4 Iltizam</td>\n",
              "      <td>83</td>\n",
              "      <td>76</td>\n",
              "      <td>96</td>\n",
              "      <td>50</td>\n",
              "      <td>6</td>\n",
              "      <td>79</td>\n",
              "      <td>C</td>\n",
              "    </tr>\n",
              "    <tr>\n",
              "      <th>3</th>\n",
              "      <td>AFRA NAZININ</td>\n",
              "      <td>4 Maju</td>\n",
              "      <td>94</td>\n",
              "      <td>53</td>\n",
              "      <td>90</td>\n",
              "      <td>50</td>\n",
              "      <td>16</td>\n",
              "      <td>84</td>\n",
              "      <td>D</td>\n",
              "    </tr>\n",
              "    <tr>\n",
              "      <th>4</th>\n",
              "      <td>AHMAD FAIZ JAMALUDIN AL POKLEH</td>\n",
              "      <td>4 Maju</td>\n",
              "      <td>96</td>\n",
              "      <td>87</td>\n",
              "      <td>99</td>\n",
              "      <td>67</td>\n",
              "      <td>14</td>\n",
              "      <td>92</td>\n",
              "      <td>D</td>\n",
              "    </tr>\n",
              "    <tr>\n",
              "      <th>...</th>\n",
              "      <td>...</td>\n",
              "      <td>...</td>\n",
              "      <td>...</td>\n",
              "      <td>...</td>\n",
              "      <td>...</td>\n",
              "      <td>...</td>\n",
              "      <td>...</td>\n",
              "      <td>...</td>\n",
              "      <td>...</td>\n",
              "    </tr>\n",
              "    <tr>\n",
              "      <th>120</th>\n",
              "      <td>WAN MUHAMAMAD HARIZ BIN HASMADI</td>\n",
              "      <td>4 Cekal</td>\n",
              "      <td>90</td>\n",
              "      <td>68</td>\n",
              "      <td>82</td>\n",
              "      <td>89</td>\n",
              "      <td>15</td>\n",
              "      <td>86</td>\n",
              "      <td>A</td>\n",
              "    </tr>\n",
              "    <tr>\n",
              "      <th>121</th>\n",
              "      <td>YASMIN ZULAIKHA BT MOHD YUSRI</td>\n",
              "      <td>4 Iltizam</td>\n",
              "      <td>64</td>\n",
              "      <td>71</td>\n",
              "      <td>73</td>\n",
              "      <td>69</td>\n",
              "      <td>9</td>\n",
              "      <td>96</td>\n",
              "      <td>C</td>\n",
              "    </tr>\n",
              "    <tr>\n",
              "      <th>122</th>\n",
              "      <td>ZAHIN AZHARI</td>\n",
              "      <td>4 Iltizam</td>\n",
              "      <td>70</td>\n",
              "      <td>68</td>\n",
              "      <td>52</td>\n",
              "      <td>58</td>\n",
              "      <td>2</td>\n",
              "      <td>93</td>\n",
              "      <td>C</td>\n",
              "    </tr>\n",
              "    <tr>\n",
              "      <th>123</th>\n",
              "      <td>ZHAFIR AFDHALUDDIN BIN ROSLEN</td>\n",
              "      <td>4 Usaha</td>\n",
              "      <td>90</td>\n",
              "      <td>65</td>\n",
              "      <td>79</td>\n",
              "      <td>63</td>\n",
              "      <td>5</td>\n",
              "      <td>90</td>\n",
              "      <td>C</td>\n",
              "    </tr>\n",
              "    <tr>\n",
              "      <th>124</th>\n",
              "      <td>ZULAIKHA ATHIRAH BINTI FUAD</td>\n",
              "      <td>4 Jaya</td>\n",
              "      <td>84</td>\n",
              "      <td>69</td>\n",
              "      <td>82</td>\n",
              "      <td>50</td>\n",
              "      <td>17</td>\n",
              "      <td>73</td>\n",
              "      <td>D</td>\n",
              "    </tr>\n",
              "  </tbody>\n",
              "</table>\n",
              "<p>125 rows × 9 columns</p>\n",
              "</div>"
            ],
            "text/plain": [
              "                            Student Name  ... Performance Group\n",
              "0    ABDUL MUHAIMIN SYAHIR BIN AMINUDDIN  ...                 C\n",
              "1         ADAM ISKANDAR BIN AHMAD FAISAL  ...                 C\n",
              "2                            AFIQ SYAMIL  ...                 C\n",
              "3                           AFRA NAZININ  ...                 D\n",
              "4         AHMAD FAIZ JAMALUDIN AL POKLEH  ...                 D\n",
              "..                                   ...  ...               ...\n",
              "120      WAN MUHAMAMAD HARIZ BIN HASMADI  ...                 A\n",
              "121        YASMIN ZULAIKHA BT MOHD YUSRI  ...                 C\n",
              "122                         ZAHIN AZHARI  ...                 C\n",
              "123        ZHAFIR AFDHALUDDIN BIN ROSLEN  ...                 C\n",
              "124          ZULAIKHA ATHIRAH BINTI FUAD  ...                 D\n",
              "\n",
              "[125 rows x 9 columns]"
            ]
          },
          "metadata": {
            "tags": []
          },
          "execution_count": 168
        }
      ]
    },
    {
      "cell_type": "markdown",
      "metadata": {
        "id": "RzdAvPno_HPr"
      },
      "source": [
        "# Clustering"
      ]
    },
    {
      "cell_type": "code",
      "metadata": {
        "id": "wSS00pPtApgt"
      },
      "source": [
        "# get column for clustering\n",
        "data = student_result_maths[['Quiz','Final']]\n",
        "\n",
        "# apply standard scalar on data\n",
        "ss = StandardScaler()\n",
        "X = ss.fit_transform(data)\n",
        "\n",
        "#fit data into model\n",
        "model = KMeans(n_clusters=4, verbose=0)\n",
        "result = model.fit_predict(X)\n",
        "\n",
        "#get the label\n",
        "student_result_maths['Performance Group'] = result.tolist()\n",
        "student_result_maths['Performance Group'] = student_result_maths['Performance Group'].apply(str)\n",
        "student_result_maths['Performance Group'].replace({\"0\": \"A\", \"1\": \"B\", \"2\": \"C\", \"3\": \"D\"}, inplace=True)\n"
      ],
      "execution_count": null,
      "outputs": []
    },
    {
      "cell_type": "code",
      "metadata": {
        "colab": {
          "base_uri": "https://localhost:8080/",
          "height": 542
        },
        "id": "FeVJDSjVRtv4",
        "outputId": "06b67ec8-1b01-49a3-b145-3ccfa95a9022"
      },
      "source": [
        "fig = px.scatter(student_result_maths, x=\"Quiz\", y=\"Final\",color=\"Performance Group\", hover_data=['Student Name','Quiz'])\n",
        "fig.update_traces(marker={'size': 10})    \n",
        "\n",
        "fig.show()"
      ],
      "execution_count": null,
      "outputs": [
        {
          "output_type": "display_data",
          "data": {
            "text/html": [
              "<html>\n",
              "<head><meta charset=\"utf-8\" /></head>\n",
              "<body>\n",
              "    <div>\n",
              "            <script src=\"https://cdnjs.cloudflare.com/ajax/libs/mathjax/2.7.5/MathJax.js?config=TeX-AMS-MML_SVG\"></script><script type=\"text/javascript\">if (window.MathJax) {MathJax.Hub.Config({SVG: {font: \"STIX-Web\"}});}</script>\n",
              "                <script type=\"text/javascript\">window.PlotlyConfig = {MathJaxConfig: 'local'};</script>\n",
              "        <script src=\"https://cdn.plot.ly/plotly-latest.min.js\"></script>    \n",
              "            <div id=\"7e2b9673-7b90-4eee-a025-7114ee8c9a37\" class=\"plotly-graph-div\" style=\"height:525px; width:100%;\"></div>\n",
              "            <script type=\"text/javascript\">\n",
              "                \n",
              "                    window.PLOTLYENV=window.PLOTLYENV || {};\n",
              "                    \n",
              "                if (document.getElementById(\"7e2b9673-7b90-4eee-a025-7114ee8c9a37\")) {\n",
              "                    Plotly.newPlot(\n",
              "                        '7e2b9673-7b90-4eee-a025-7114ee8c9a37',\n",
              "                        [{\"customdata\": [[\"ABDUL MUHAIMIN SYAHIR BIN AMINUDDIN\", 2], [\"ADAM ISKANDAR BIN AHMAD FAISAL\", 10], [\"AFIQ SYAMIL\", 6], [\"AHMAD SYAMIL BIN ANUAR\", 1], [\"AIZAT\", 5], [\"AMIR SHOUQQIE BIN NORULL AHMAD\", 1], [\"AMMAR BIN ABD MANAF\", 10], [\"ANIS AMEERA MOHD AZHAM\", 6], [\"ANNE MARTHA A/P ARULNATHAN\", 10], [\"AZRI AZFAR IKHTIARUDDIN \", 7], [\"DANIA QISTINA\", 6], [\"FALHANI FIRDAOS\", 3], [\"FATIHAH BINTI MOHAMED ROSLY\", 5], [\"FATIN HAMIMAH\", 8], [\"HUSNA SOLEHAH\", 5], [\"ILI ISFAHAN\", 5], [\"MOHD IFWAT\", 4], [\"MUHAMMAD HAFIZ BIN JAMAL ABDUL NASAR\", 7], [\"MUHAMMAD IZZAT HELMI\", 7], [\"MUHAMMAD SHAZWI ALIF BIN MOHAMAD KARIM\", 5], [\"MUHAMMAD ZUBAIR BIN MOHD ZAMRI\", 6], [\"NASIHAH NUR ALIAH BINTI MD NASIR \", 1], [\"NUR AQILAH BT MOHD ASHRI\", 6], [\"NUR NASRIN BT ALI\", 6], [\"NUR SYAHIRAH BINTI MOHD NASIR \", 3], [\"NURFARAH FA\\u2019IQAH BINTI DAUD\", 1], [\"NURUL AFIQAH BINTI MOHAMAD NAPIS\", 9], [\"RAZIN SYAFIQ BIN ROSLI\", 10], [\"SITI NUR IZZAH AZIEMAH BINTI ISHAK\", 8], [\"SYAMIN ZAIDI\", 10], [\"UMAR MUSTAQIM\", 8], [\"YASMIN ZULAIKHA BT MOHD YUSRI\", 9], [\"ZAHIN AZHARI\", 2], [\"ZHAFIR AFDHALUDDIN BIN ROSLEN\", 5]], \"hoverlabel\": {\"namelength\": 0}, \"hovertemplate\": \"Performance Group=C<br>Quiz=%{customdata[1]}<br>Final=%{y}<br>Student Name=%{customdata[0]}\", \"legendgroup\": \"Performance Group=C\", \"marker\": {\"color\": \"#636efa\", \"size\": 10, \"symbol\": \"circle\"}, \"mode\": \"markers\", \"name\": \"Performance Group=C\", \"showlegend\": true, \"type\": \"scatter\", \"x\": [2, 10, 6, 1, 5, 1, 10, 6, 10, 7, 6, 3, 5, 8, 5, 5, 4, 7, 7, 5, 6, 1, 6, 6, 3, 1, 9, 10, 8, 10, 8, 9, 2, 5], \"xaxis\": \"x\", \"y\": [73, 63, 50, 56, 62, 69, 53, 64, 70, 69, 53, 55, 51, 51, 71, 53, 61, 52, 57, 50, 69, 67, 64, 71, 59, 72, 61, 70, 61, 67, 55, 69, 58, 63], \"yaxis\": \"y\"}, {\"customdata\": [[\"AFRA NAZININ\", 16], [\"AHMAD FAIZ JAMALUDIN AL POKLEH\", 14], [\"AHMAD NAJMI BIN SHAHRUL AZHAR\", 17], [\"AIMAN EZMIL BIN JABRI\", 13], [\"ALPHONSUS ADRIANO AK ALEXSAN\", 18], [\"FAHEEM FAUZI\", 12], [\"FAIZ ASYRAF \", 20], [\"IZYAN HUMAIRAA' BINTI MUSTAFA KAMAL\", 11], [\"KEERRTHENAN YOORTHTHERAN\", 16], [\"LUQMAN RASTAM\", 16], [\"MIRZA AIMAN\", 13], [\"MOHAMAD HAFIZUL IKHWAN BIN RIDZUAN\", 16], [\"MOHD BASYIRUDDEEN\", 12], [\"MUHAMMAD AKMAL SHAFIQ BIN SAHARUDIN\", 14], [\"MUHAMMAD IHSAN HAKIMI BIN AZMI\", 12], [\"MUHAMMAD ISZIZIE IDZHAM BIN ISMAIL\", 19], [\"MUHAMMAD MUSTAQIM BIN MAHFUZ\", 18], [\"NUR FAIQAH BINTI MAT ABDUL SHUKOR\", 14], [\"NURQISTINA BT BADERULHISHAM\", 19], [\"NURUL IZZAH KHUMAIRA BINTI MD AMURAD\", 17], [\"SUFIA JASMIN\", 16], [\"SYAFIQ IRFAN\", 19], [\"TABIBAH ZAINAB BINTI ZULKIFLI \", 18], [\"ZULAIKHA ATHIRAH BINTI FUAD\", 17]], \"hoverlabel\": {\"namelength\": 0}, \"hovertemplate\": \"Performance Group=D<br>Quiz=%{customdata[1]}<br>Final=%{y}<br>Student Name=%{customdata[0]}\", \"legendgroup\": \"Performance Group=D\", \"marker\": {\"color\": \"#EF553B\", \"size\": 10, \"symbol\": \"circle\"}, \"mode\": \"markers\", \"name\": \"Performance Group=D\", \"showlegend\": true, \"type\": \"scatter\", \"x\": [16, 14, 17, 13, 18, 12, 20, 11, 16, 16, 13, 16, 12, 14, 12, 19, 18, 14, 19, 17, 16, 19, 18, 17], \"xaxis\": \"x\", \"y\": [50, 67, 75, 52, 66, 68, 71, 58, 75, 65, 69, 67, 52, 57, 64, 52, 64, 54, 57, 59, 74, 71, 73, 50], \"yaxis\": \"y\"}, {\"customdata\": [[\"AIMAN \\u2018AZEEM BIN SALIMAN YURID\", 6], [\"AMIR AIZAT BIN AZMAN\", 6], [\"AMIRA ZULAIKHA BINTI ISMAIL\", 4], [\"ASYMAL BIN AZHAR\", 4], [\"FAIS SYAHMI BIN LUVIS\", 4], [\"ILHAM ILYANA \", 6], [\"ILI NAJWA ROSLI\", 5], [\"IMRAN BIN ISMADI\", 4], [\"IRFAN BIN ISMAIL\", 4], [\"IZZAH IZZATI\", 1], [\"KEVIN JACK AHKUI\", 5], [\"LIYANA AISYAH BINTI SUBAIMI\", 9], [\"MOHAMED FEROZ BIN MOHD ASHRAP KHAN\", 2], [\"MUHAMMAD AIDIEL HAIQAL BIN HAMDAN \", 7], [\"MUHAMMAD AIMAN NAZMI NORDIN\", 8], [\"MUHAMMAD AIZAT BIN NAZLEE\", 4], [\"MUHAMMAD DANIEL ISKANDAR BIN ABDUL RANI\", 7], [\"MUHAMMAD FAUZAN BIN MOHD ZULPADIL\", 4], [\"MUHAMMAD RIZKY ANANDA\", 2], [\"MUHAMMAD SHAFIQ BIN RAHMAT \", 4], [\"NUR ATHIRAH \", 6], [\"NUR BATRISHIYA BINTI HELWANY HAD\", 8], [\"NUR IZZAHTUL AMIRA BINTI AHMAD\", 8], [\"NUR IZZATI BINTI JAMALUDDIN\", 3], [\"NUR IZZATUL NAJWA BINTI RAMLI\", 8], [\"NUR SYAKIRA BINTI SUHAIMI\", 4], [\"NURUL IZYAN AMILYNN BT MOHD LETFINUDDIN\", 1], [\"NURUL NADHIRAH BINTI MOHD ROSLAN\", 2], [\"NURUL NATASHA HALIM\", 9], [\"SARAH SHABANI\", 1]], \"hoverlabel\": {\"namelength\": 0}, \"hovertemplate\": \"Performance Group=B<br>Quiz=%{customdata[1]}<br>Final=%{y}<br>Student Name=%{customdata[0]}\", \"legendgroup\": \"Performance Group=B\", \"marker\": {\"color\": \"#00cc96\", \"size\": 10, \"symbol\": \"circle\"}, \"mode\": \"markers\", \"name\": \"Performance Group=B\", \"showlegend\": true, \"type\": \"scatter\", \"x\": [6, 6, 4, 4, 4, 6, 5, 4, 4, 1, 5, 9, 2, 7, 8, 4, 7, 4, 2, 4, 6, 8, 8, 3, 8, 4, 1, 2, 9, 1], \"xaxis\": \"x\", \"y\": [88, 84, 100, 88, 88, 78, 99, 89, 83, 78, 93, 92, 85, 92, 97, 86, 76, 89, 79, 76, 82, 92, 85, 86, 95, 97, 77, 81, 92, 87], \"yaxis\": \"y\"}, {\"customdata\": [[\"AMEERUL ASYRAF BIN MD NASIR\", 10], [\"AMIRAH FADHLIN DAHLAN\", 12], [\"AMIRUL AFIQ BIN MOHD RADUAN\", 19], [\"ANIS NAJWA BINTI NAJIB\", 12], [\"DANIAL ARDI\", 20], [\"FATIMAH ZAHRA BINTI HAMZAH\", 13], [\"JAMILA SYUHADA\", 12], [\"MAISARAH MOHD AZHAR\", 13], [\"MOHAMMAD AMIRUL IKHMAL BIN HASSAN \", 20], [\"MOHD ASHROFF HOSSIN\", 13], [\"MUHAMMAD AFEEF BIN MAZLAN\", 19], [\"MUHAMMAD AMIR ASYRAF BIN FAZLI\", 14], [\"MUHAMMAD AMIRUL UZAIR BIN SURATMAN\", 10], [\"MUHAMMAD ASLAM KHAN BIN MOHD RASHID KHAN\", 16], [\"MUHAMMAD EDDRY KHAIRI BIN KASRUL KHAIRI\", 16], [\"MUHAMMAD IRFAN BIN MOHD PIKRI \", 11], [\"MUHAMMAD IZANIE BIN YUSOF\", 15], [\"MUHAMMAD NIZAMUDDIN BIN AZLAN\", 17], [\"MUHAMMAD NUR IRHAM FIRDAUS BIN AZMI\", 18], [\"MUHAMMAD SHAHRIL NIZAM BIN ABDULLAH \", 16], [\"MUHAMMAD SYAUFI\", 11], [\"MUHAMMAD SYAZWAN BIN MOHAMAD SALLEH\", 20], [\"NIROSHAAN A/L P.RAMIS\", 12], [\"NORDIANA BT ZAKI\", 17], [\"NUR AINA ZAYANI BINTI YUSAINI\", 16], [\"NUR ANNISA BINTI BAZLI\", 17], [\"NUR SAHIRAH ZAYYANAH\", 10], [\"NURUL AQILAH BINTI ABDUL GHANI GANESAN \", 11], [\"PAVETHRAN SUGAVELLAN \", 15], [\"QRIEZSYA BALQIS BINTI MOHD HISHAM \", 12], [\"SARAH IWANI BT MOHD YUSRI\", 11], [\"SHAHRIZAM BIN MAHMUD\", 14], [\"SITI JAMAAINI\", 10], [\"TENGKU AYESHA SOFIA BINTI TENGKU MUHAMAD ADNAN \", 13], [\"UWAIS AL-QARNI BIN ANWAR RIDWAN\", 12], [\"WAN AFIFAH NAJIHAH BINTI WAN MOHD SYUKRI \", 20], [\"WAN MUHAMAMAD HARIZ BIN HASMADI\", 15]], \"hoverlabel\": {\"namelength\": 0}, \"hovertemplate\": \"Performance Group=A<br>Quiz=%{customdata[1]}<br>Final=%{y}<br>Student Name=%{customdata[0]}\", \"legendgroup\": \"Performance Group=A\", \"marker\": {\"color\": \"#ab63fa\", \"size\": 10, \"symbol\": \"circle\"}, \"mode\": \"markers\", \"name\": \"Performance Group=A\", \"showlegend\": true, \"type\": \"scatter\", \"x\": [10, 12, 19, 12, 20, 13, 12, 13, 20, 13, 19, 14, 10, 16, 16, 11, 15, 17, 18, 16, 11, 20, 12, 17, 16, 17, 10, 11, 15, 12, 11, 14, 10, 13, 12, 20, 15], \"xaxis\": \"x\", \"y\": [86, 80, 97, 92, 86, 80, 83, 80, 97, 95, 85, 80, 80, 92, 90, 97, 76, 85, 94, 93, 100, 90, 87, 97, 81, 83, 89, 82, 95, 97, 86, 83, 84, 77, 96, 80, 89], \"yaxis\": \"y\"}],\n",
              "                        {\"legend\": {\"tracegroupgap\": 0}, \"margin\": {\"t\": 60}, \"template\": {\"data\": {\"bar\": [{\"error_x\": {\"color\": \"#2a3f5f\"}, \"error_y\": {\"color\": \"#2a3f5f\"}, \"marker\": {\"line\": {\"color\": \"#E5ECF6\", \"width\": 0.5}}, \"type\": \"bar\"}], \"barpolar\": [{\"marker\": {\"line\": {\"color\": \"#E5ECF6\", \"width\": 0.5}}, \"type\": \"barpolar\"}], \"carpet\": [{\"aaxis\": {\"endlinecolor\": \"#2a3f5f\", \"gridcolor\": \"white\", \"linecolor\": \"white\", \"minorgridcolor\": \"white\", \"startlinecolor\": \"#2a3f5f\"}, \"baxis\": {\"endlinecolor\": \"#2a3f5f\", \"gridcolor\": \"white\", \"linecolor\": \"white\", \"minorgridcolor\": \"white\", \"startlinecolor\": \"#2a3f5f\"}, \"type\": \"carpet\"}], \"choropleth\": [{\"colorbar\": {\"outlinewidth\": 0, \"ticks\": \"\"}, \"type\": \"choropleth\"}], \"contour\": [{\"colorbar\": {\"outlinewidth\": 0, \"ticks\": \"\"}, \"colorscale\": [[0.0, \"#0d0887\"], [0.1111111111111111, \"#46039f\"], [0.2222222222222222, \"#7201a8\"], [0.3333333333333333, \"#9c179e\"], [0.4444444444444444, \"#bd3786\"], [0.5555555555555556, \"#d8576b\"], [0.6666666666666666, \"#ed7953\"], [0.7777777777777778, \"#fb9f3a\"], [0.8888888888888888, \"#fdca26\"], [1.0, \"#f0f921\"]], \"type\": \"contour\"}], \"contourcarpet\": [{\"colorbar\": {\"outlinewidth\": 0, \"ticks\": \"\"}, \"type\": \"contourcarpet\"}], \"heatmap\": [{\"colorbar\": {\"outlinewidth\": 0, \"ticks\": \"\"}, \"colorscale\": [[0.0, \"#0d0887\"], [0.1111111111111111, \"#46039f\"], [0.2222222222222222, \"#7201a8\"], [0.3333333333333333, \"#9c179e\"], [0.4444444444444444, \"#bd3786\"], [0.5555555555555556, \"#d8576b\"], [0.6666666666666666, \"#ed7953\"], [0.7777777777777778, \"#fb9f3a\"], [0.8888888888888888, \"#fdca26\"], [1.0, \"#f0f921\"]], \"type\": \"heatmap\"}], \"heatmapgl\": [{\"colorbar\": {\"outlinewidth\": 0, \"ticks\": \"\"}, \"colorscale\": [[0.0, \"#0d0887\"], [0.1111111111111111, \"#46039f\"], [0.2222222222222222, \"#7201a8\"], [0.3333333333333333, \"#9c179e\"], [0.4444444444444444, \"#bd3786\"], [0.5555555555555556, \"#d8576b\"], [0.6666666666666666, \"#ed7953\"], [0.7777777777777778, \"#fb9f3a\"], [0.8888888888888888, \"#fdca26\"], [1.0, \"#f0f921\"]], \"type\": \"heatmapgl\"}], \"histogram\": [{\"marker\": {\"colorbar\": {\"outlinewidth\": 0, \"ticks\": \"\"}}, \"type\": \"histogram\"}], \"histogram2d\": [{\"colorbar\": {\"outlinewidth\": 0, \"ticks\": \"\"}, \"colorscale\": [[0.0, \"#0d0887\"], [0.1111111111111111, \"#46039f\"], [0.2222222222222222, \"#7201a8\"], [0.3333333333333333, \"#9c179e\"], [0.4444444444444444, \"#bd3786\"], [0.5555555555555556, \"#d8576b\"], [0.6666666666666666, \"#ed7953\"], [0.7777777777777778, \"#fb9f3a\"], [0.8888888888888888, \"#fdca26\"], [1.0, \"#f0f921\"]], \"type\": \"histogram2d\"}], \"histogram2dcontour\": [{\"colorbar\": {\"outlinewidth\": 0, \"ticks\": \"\"}, \"colorscale\": [[0.0, \"#0d0887\"], [0.1111111111111111, \"#46039f\"], [0.2222222222222222, \"#7201a8\"], [0.3333333333333333, \"#9c179e\"], [0.4444444444444444, \"#bd3786\"], [0.5555555555555556, \"#d8576b\"], [0.6666666666666666, \"#ed7953\"], [0.7777777777777778, \"#fb9f3a\"], [0.8888888888888888, \"#fdca26\"], [1.0, \"#f0f921\"]], \"type\": \"histogram2dcontour\"}], \"mesh3d\": [{\"colorbar\": {\"outlinewidth\": 0, \"ticks\": \"\"}, \"type\": \"mesh3d\"}], \"parcoords\": [{\"line\": {\"colorbar\": {\"outlinewidth\": 0, \"ticks\": \"\"}}, \"type\": \"parcoords\"}], \"pie\": [{\"automargin\": true, \"type\": \"pie\"}], \"scatter\": [{\"marker\": {\"colorbar\": {\"outlinewidth\": 0, \"ticks\": \"\"}}, \"type\": \"scatter\"}], \"scatter3d\": [{\"line\": {\"colorbar\": {\"outlinewidth\": 0, \"ticks\": \"\"}}, \"marker\": {\"colorbar\": {\"outlinewidth\": 0, \"ticks\": \"\"}}, \"type\": \"scatter3d\"}], \"scattercarpet\": [{\"marker\": {\"colorbar\": {\"outlinewidth\": 0, \"ticks\": \"\"}}, \"type\": \"scattercarpet\"}], \"scattergeo\": [{\"marker\": {\"colorbar\": {\"outlinewidth\": 0, \"ticks\": \"\"}}, \"type\": \"scattergeo\"}], \"scattergl\": [{\"marker\": {\"colorbar\": {\"outlinewidth\": 0, \"ticks\": \"\"}}, \"type\": \"scattergl\"}], \"scattermapbox\": [{\"marker\": {\"colorbar\": {\"outlinewidth\": 0, \"ticks\": \"\"}}, \"type\": \"scattermapbox\"}], \"scatterpolar\": [{\"marker\": {\"colorbar\": {\"outlinewidth\": 0, \"ticks\": \"\"}}, \"type\": \"scatterpolar\"}], \"scatterpolargl\": [{\"marker\": {\"colorbar\": {\"outlinewidth\": 0, \"ticks\": \"\"}}, \"type\": \"scatterpolargl\"}], \"scatterternary\": [{\"marker\": {\"colorbar\": {\"outlinewidth\": 0, \"ticks\": \"\"}}, \"type\": \"scatterternary\"}], \"surface\": [{\"colorbar\": {\"outlinewidth\": 0, \"ticks\": \"\"}, \"colorscale\": [[0.0, \"#0d0887\"], [0.1111111111111111, \"#46039f\"], [0.2222222222222222, \"#7201a8\"], [0.3333333333333333, \"#9c179e\"], [0.4444444444444444, \"#bd3786\"], [0.5555555555555556, \"#d8576b\"], [0.6666666666666666, \"#ed7953\"], [0.7777777777777778, \"#fb9f3a\"], [0.8888888888888888, \"#fdca26\"], [1.0, \"#f0f921\"]], \"type\": \"surface\"}], \"table\": [{\"cells\": {\"fill\": {\"color\": \"#EBF0F8\"}, \"line\": {\"color\": \"white\"}}, \"header\": {\"fill\": {\"color\": \"#C8D4E3\"}, \"line\": {\"color\": \"white\"}}, \"type\": \"table\"}]}, \"layout\": {\"annotationdefaults\": {\"arrowcolor\": \"#2a3f5f\", \"arrowhead\": 0, \"arrowwidth\": 1}, \"coloraxis\": {\"colorbar\": {\"outlinewidth\": 0, \"ticks\": \"\"}}, \"colorscale\": {\"diverging\": [[0, \"#8e0152\"], [0.1, \"#c51b7d\"], [0.2, \"#de77ae\"], [0.3, \"#f1b6da\"], [0.4, \"#fde0ef\"], [0.5, \"#f7f7f7\"], [0.6, \"#e6f5d0\"], [0.7, \"#b8e186\"], [0.8, \"#7fbc41\"], [0.9, \"#4d9221\"], [1, \"#276419\"]], \"sequential\": [[0.0, \"#0d0887\"], [0.1111111111111111, \"#46039f\"], [0.2222222222222222, \"#7201a8\"], [0.3333333333333333, \"#9c179e\"], [0.4444444444444444, \"#bd3786\"], [0.5555555555555556, \"#d8576b\"], [0.6666666666666666, \"#ed7953\"], [0.7777777777777778, \"#fb9f3a\"], [0.8888888888888888, \"#fdca26\"], [1.0, \"#f0f921\"]], \"sequentialminus\": [[0.0, \"#0d0887\"], [0.1111111111111111, \"#46039f\"], [0.2222222222222222, \"#7201a8\"], [0.3333333333333333, \"#9c179e\"], [0.4444444444444444, \"#bd3786\"], [0.5555555555555556, \"#d8576b\"], [0.6666666666666666, \"#ed7953\"], [0.7777777777777778, \"#fb9f3a\"], [0.8888888888888888, \"#fdca26\"], [1.0, \"#f0f921\"]]}, \"colorway\": [\"#636efa\", \"#EF553B\", \"#00cc96\", \"#ab63fa\", \"#FFA15A\", \"#19d3f3\", \"#FF6692\", \"#B6E880\", \"#FF97FF\", \"#FECB52\"], \"font\": {\"color\": \"#2a3f5f\"}, \"geo\": {\"bgcolor\": \"white\", \"lakecolor\": \"white\", \"landcolor\": \"#E5ECF6\", \"showlakes\": true, \"showland\": true, \"subunitcolor\": \"white\"}, \"hoverlabel\": {\"align\": \"left\"}, \"hovermode\": \"closest\", \"mapbox\": {\"style\": \"light\"}, \"paper_bgcolor\": \"white\", \"plot_bgcolor\": \"#E5ECF6\", \"polar\": {\"angularaxis\": {\"gridcolor\": \"white\", \"linecolor\": \"white\", \"ticks\": \"\"}, \"bgcolor\": \"#E5ECF6\", \"radialaxis\": {\"gridcolor\": \"white\", \"linecolor\": \"white\", \"ticks\": \"\"}}, \"scene\": {\"xaxis\": {\"backgroundcolor\": \"#E5ECF6\", \"gridcolor\": \"white\", \"gridwidth\": 2, \"linecolor\": \"white\", \"showbackground\": true, \"ticks\": \"\", \"zerolinecolor\": \"white\"}, \"yaxis\": {\"backgroundcolor\": \"#E5ECF6\", \"gridcolor\": \"white\", \"gridwidth\": 2, \"linecolor\": \"white\", \"showbackground\": true, \"ticks\": \"\", \"zerolinecolor\": \"white\"}, \"zaxis\": {\"backgroundcolor\": \"#E5ECF6\", \"gridcolor\": \"white\", \"gridwidth\": 2, \"linecolor\": \"white\", \"showbackground\": true, \"ticks\": \"\", \"zerolinecolor\": \"white\"}}, \"shapedefaults\": {\"line\": {\"color\": \"#2a3f5f\"}}, \"ternary\": {\"aaxis\": {\"gridcolor\": \"white\", \"linecolor\": \"white\", \"ticks\": \"\"}, \"baxis\": {\"gridcolor\": \"white\", \"linecolor\": \"white\", \"ticks\": \"\"}, \"bgcolor\": \"#E5ECF6\", \"caxis\": {\"gridcolor\": \"white\", \"linecolor\": \"white\", \"ticks\": \"\"}}, \"title\": {\"x\": 0.05}, \"xaxis\": {\"automargin\": true, \"gridcolor\": \"white\", \"linecolor\": \"white\", \"ticks\": \"\", \"title\": {\"standoff\": 15}, \"zerolinecolor\": \"white\", \"zerolinewidth\": 2}, \"yaxis\": {\"automargin\": true, \"gridcolor\": \"white\", \"linecolor\": \"white\", \"ticks\": \"\", \"title\": {\"standoff\": 15}, \"zerolinecolor\": \"white\", \"zerolinewidth\": 2}}}, \"xaxis\": {\"anchor\": \"y\", \"domain\": [0.0, 1.0], \"title\": {\"text\": \"Quiz\"}}, \"yaxis\": {\"anchor\": \"x\", \"domain\": [0.0, 1.0], \"title\": {\"text\": \"Final\"}}},\n",
              "                        {\"responsive\": true}\n",
              "                    ).then(function(){\n",
              "                            \n",
              "var gd = document.getElementById('7e2b9673-7b90-4eee-a025-7114ee8c9a37');\n",
              "var x = new MutationObserver(function (mutations, observer) {{\n",
              "        var display = window.getComputedStyle(gd).display;\n",
              "        if (!display || display === 'none') {{\n",
              "            console.log([gd, 'removed!']);\n",
              "            Plotly.purge(gd);\n",
              "            observer.disconnect();\n",
              "        }}\n",
              "}});\n",
              "\n",
              "// Listen for the removal of the full notebook cells\n",
              "var notebookContainer = gd.closest('#notebook-container');\n",
              "if (notebookContainer) {{\n",
              "    x.observe(notebookContainer, {childList: true});\n",
              "}}\n",
              "\n",
              "// Listen for the clearing of the current output cell\n",
              "var outputEl = gd.closest('.output');\n",
              "if (outputEl) {{\n",
              "    x.observe(outputEl, {childList: true});\n",
              "}}\n",
              "\n",
              "                        })\n",
              "                };\n",
              "                \n",
              "            </script>\n",
              "        </div>\n",
              "</body>\n",
              "</html>"
            ]
          },
          "metadata": {
            "tags": []
          }
        }
      ]
    },
    {
      "cell_type": "markdown",
      "metadata": {
        "id": "OLZJ4emjc0-H"
      },
      "source": [
        "## Clustering function"
      ]
    },
    {
      "cell_type": "code",
      "metadata": {
        "id": "_-w0cFpfcEwR"
      },
      "source": [
        "def getClustering(df,c1,c2):\n",
        "  # get column for clustering\n",
        "  data = df[[c1,c2]]\n",
        "\n",
        "  # apply standard scalar on data\n",
        "  ss = StandardScaler()\n",
        "  X = ss.fit_transform(data)\n",
        "\n",
        "  #fit data into model\n",
        "  model = KMeans(n_clusters=4, verbose=0)\n",
        "  result = model.fit_predict(X)\n",
        "\n",
        "  #get the label\n",
        "  df['Performance Group'] = result.tolist()\n",
        "  df['Performance Group'] = df['Performance Group'].apply(str)\n",
        "  df['Performance Group'].replace({\"0\": \"A\", \"1\": \"B\", \"2\": \"C\", \"3\": \"D\"}, inplace=True)\n",
        "\n",
        "  #display\n",
        "  fig = px.scatter(df, x=c1, y=c2,color=\"Performance Group\", hover_data=['Student Name',c1])\n",
        "  fig.update_traces(marker={'size': 10})    \n",
        "\n",
        "  fig.show()\n"
      ],
      "execution_count": null,
      "outputs": []
    },
    {
      "cell_type": "code",
      "metadata": {
        "colab": {
          "base_uri": "https://localhost:8080/",
          "height": 542
        },
        "cellView": "form",
        "id": "aI_BFAG6c7gW",
        "outputId": "f83e9eda-c815-474c-93f9-02db1b5cee44"
      },
      "source": [
        "#testing pass data\n",
        "dataset = student_result_sejarah #@param [student_result_sejarah, student_result_science, student_result_maths] {type:\"raw\"}\n",
        "\n",
        "\n",
        "feature1 = 'E3' #@param [\"E1\", \"E2\", \"E3\", \"Final\", \"Quiz\", \"Attendance\"]\n",
        "feature2 = 'Final' #@param [\"E1\", \"E2\", \"E3\", \"Final\", \"Quiz\", \"Attendance\"]\n",
        "\n",
        "# call function\n",
        "getClustering(dataset,feature1,feature2)"
      ],
      "execution_count": null,
      "outputs": [
        {
          "output_type": "display_data",
          "data": {
            "text/html": [
              "<html>\n",
              "<head><meta charset=\"utf-8\" /></head>\n",
              "<body>\n",
              "    <div>\n",
              "            <script src=\"https://cdnjs.cloudflare.com/ajax/libs/mathjax/2.7.5/MathJax.js?config=TeX-AMS-MML_SVG\"></script><script type=\"text/javascript\">if (window.MathJax) {MathJax.Hub.Config({SVG: {font: \"STIX-Web\"}});}</script>\n",
              "                <script type=\"text/javascript\">window.PlotlyConfig = {MathJaxConfig: 'local'};</script>\n",
              "        <script src=\"https://cdn.plot.ly/plotly-latest.min.js\"></script>    \n",
              "            <div id=\"1fae7e61-1108-470a-8285-77ee7f4847c6\" class=\"plotly-graph-div\" style=\"height:525px; width:100%;\"></div>\n",
              "            <script type=\"text/javascript\">\n",
              "                \n",
              "                    window.PLOTLYENV=window.PLOTLYENV || {};\n",
              "                    \n",
              "                if (document.getElementById(\"1fae7e61-1108-470a-8285-77ee7f4847c6\")) {\n",
              "                    Plotly.newPlot(\n",
              "                        '1fae7e61-1108-470a-8285-77ee7f4847c6',\n",
              "                        [{\"customdata\": [[\"ABDUL MUHAIMIN SYAHIR BIN AMINUDDIN\", 95], [\"ADAM ISKANDAR BIN AHMAD FAISAL\", 96], [\"AHMAD FAIZ JAMALUDIN AL POKLEH\", 99], [\"AHMAD NAJMI BIN SHAHRUL AZHAR\", 88], [\"ALPHONSUS ADRIANO AK ALEXSAN\", 76], [\"AMEERUL ASYRAF BIN MD NASIR\", 93], [\"AMIR SHOUQQIE BIN NORULL AHMAD\", 77], [\"AMIRA ZULAIKHA BINTI ISMAIL\", 88], [\"AMMAR BIN ABD MANAF\", 89], [\"ANIS NAJWA BINTI NAJIB\", 96], [\"AZRI AZFAR IKHTIARUDDIN \", 96], [\"FAIS SYAHMI BIN LUVIS\", 88], [\"ILI NAJWA ROSLI\", 78], [\"IMRAN BIN ISMADI\", 82], [\"IZZAH IZZATI\", 71], [\"KEVIN JACK AHKUI\", 85], [\"MAISARAH MOHD AZHAR\", 87], [\"MOHAMAD HAFIZUL IKHWAN BIN RIDZUAN\", 80], [\"MOHAMED FEROZ BIN MOHD ASHRAP KHAN\", 98], [\"MUHAMMAD EDDRY KHAIRI BIN KASRUL KHAIRI\", 81], [\"MUHAMMAD FAUZAN BIN MOHD ZULPADIL\", 98], [\"MUHAMMAD MUSTAQIM BIN MAHFUZ\", 73], [\"MUHAMMAD NIZAMUDDIN BIN AZLAN\", 87], [\"MUHAMMAD ZUBAIR BIN MOHD ZAMRI\", 80], [\"NASIHAH NUR ALIAH BINTI MD NASIR \", 79], [\"NORDIANA BT ZAKI\", 79], [\"NUR ANNISA BINTI BAZLI\", 79], [\"NUR IZZAHTUL AMIRA BINTI AHMAD\", 79], [\"NUR IZZATUL NAJWA BINTI RAMLI\", 77], [\"NUR NASRIN BT ALI\", 80], [\"NUR SYAKIRA BINTI SUHAIMI\", 89], [\"NURUL AQILAH BINTI ABDUL GHANI GANESAN \", 91], [\"NURUL IZZAH KHUMAIRA BINTI MD AMURAD\", 80], [\"NURUL NADHIRAH BINTI MOHD ROSLAN\", 96], [\"NURUL NATASHA HALIM\", 80], [\"RAZIN SYAFIQ BIN ROSLI\", 97], [\"SARAH SHABANI\", 96], [\"SYAMIN ZAIDI\", 92], [\"UWAIS AL-QARNI BIN ANWAR RIDWAN\", 92], [\"WAN AFIFAH NAJIHAH BINTI WAN MOHD SYUKRI \", 85], [\"WAN MUHAMAMAD HARIZ BIN HASMADI\", 82], [\"YASMIN ZULAIKHA BT MOHD YUSRI\", 73], [\"ZHAFIR AFDHALUDDIN BIN ROSLEN\", 79]], \"hoverlabel\": {\"namelength\": 0}, \"hovertemplate\": \"Performance Group=B<br>E3=%{customdata[1]}<br>Attendance=%{y}<br>Student Name=%{customdata[0]}\", \"legendgroup\": \"Performance Group=B\", \"marker\": {\"color\": \"#636efa\", \"size\": 10, \"symbol\": \"circle\"}, \"mode\": \"markers\", \"name\": \"Performance Group=B\", \"showlegend\": true, \"type\": \"scatter\", \"x\": [95, 96, 99, 88, 76, 93, 77, 88, 89, 96, 96, 88, 78, 82, 71, 85, 87, 80, 98, 81, 98, 73, 87, 80, 79, 79, 79, 79, 77, 80, 89, 91, 80, 96, 80, 97, 96, 92, 92, 85, 82, 73, 79], \"xaxis\": \"x\", \"y\": [88, 89, 92, 93, 100, 85, 88, 86, 87, 91, 96, 98, 96, 90, 94, 92, 93, 92, 87, 100, 95, 96, 94, 86, 88, 86, 97, 87, 97, 94, 89, 98, 90, 92, 93, 88, 98, 88, 100, 95, 86, 96, 90], \"yaxis\": \"y\"}, {\"customdata\": [[\"AFIQ SYAMIL\", 96], [\"AFRA NAZININ\", 90], [\"ANIS AMEERA MOHD AZHAM\", 93], [\"DANIAL ARDI\", 82], [\"FAHEEM FAUZI\", 96], [\"FALHANI FIRDAOS\", 77], [\"FATIMAH ZAHRA BINTI HAMZAH\", 89], [\"FATIN HAMIMAH\", 86], [\"ILI ISFAHAN\", 82], [\"IZYAN HUMAIRAA' BINTI MUSTAFA KAMAL\", 87], [\"LUQMAN RASTAM\", 73], [\"MIRZA AIMAN\", 76], [\"MOHAMMAD AMIRUL IKHMAL BIN HASSAN \", 89], [\"MOHD BASYIRUDDEEN\", 92], [\"MUHAMMAD AIZAT BIN NAZLEE\", 77], [\"MUHAMMAD AMIR ASYRAF BIN FAZLI\", 78], [\"MUHAMMAD HAFIZ BIN JAMAL ABDUL NASAR\", 100], [\"MUHAMMAD IRFAN BIN MOHD PIKRI \", 78], [\"MUHAMMAD IZANIE BIN YUSOF\", 77], [\"MUHAMMAD SHAFIQ BIN RAHMAT \", 84], [\"MUHAMMAD SHAHRIL NIZAM BIN ABDULLAH \", 81], [\"MUHAMMAD SYAUFI\", 80], [\"MUHAMMAD SYAZWAN BIN MOHAMAD SALLEH\", 98], [\"NIROSHAAN A/L P.RAMIS\", 84], [\"NUR AQILAH BT MOHD ASHRI\", 91], [\"NUR ATHIRAH \", 78], [\"NURUL IZYAN AMILYNN BT MOHD LETFINUDDIN\", 77], [\"QRIEZSYA BALQIS BINTI MOHD HISHAM \", 89], [\"SHAHRIZAM BIN MAHMUD\", 78], [\"SITI JAMAAINI\", 84], [\"UMAR MUSTAQIM\", 71], [\"ZULAIKHA ATHIRAH BINTI FUAD\", 82]], \"hoverlabel\": {\"namelength\": 0}, \"hovertemplate\": \"Performance Group=D<br>E3=%{customdata[1]}<br>Attendance=%{y}<br>Student Name=%{customdata[0]}\", \"legendgroup\": \"Performance Group=D\", \"marker\": {\"color\": \"#EF553B\", \"size\": 10, \"symbol\": \"circle\"}, \"mode\": \"markers\", \"name\": \"Performance Group=D\", \"showlegend\": true, \"type\": \"scatter\", \"x\": [96, 90, 93, 82, 96, 77, 89, 86, 82, 87, 73, 76, 89, 92, 77, 78, 100, 78, 77, 84, 81, 80, 98, 84, 91, 78, 77, 89, 78, 84, 71, 82], \"xaxis\": \"x\", \"y\": [79, 84, 83, 71, 83, 76, 71, 78, 73, 76, 84, 72, 74, 78, 80, 82, 80, 72, 77, 76, 84, 80, 82, 76, 80, 73, 70, 75, 76, 77, 83, 73], \"yaxis\": \"y\"}, {\"customdata\": [[\"AHMAD SYAMIL BIN ANUAR\", 53], [\"AIZAT\", 65], [\"AMIR AIZAT BIN AZMAN\", 69], [\"FATIHAH BINTI MOHAMED ROSLY\", 69], [\"HUSNA SOLEHAH\", 51], [\"JAMILA SYUHADA\", 53], [\"KEERRTHENAN YOORTHTHERAN\", 65], [\"LIYANA AISYAH BINTI SUBAIMI\", 58], [\"MOHD ASHROFF HOSSIN\", 55], [\"MUHAMMAD AFEEF BIN MAZLAN\", 69], [\"MUHAMMAD AIDIEL HAIQAL BIN HAMDAN \", 64], [\"MUHAMMAD AIMAN NAZMI NORDIN\", 55], [\"MUHAMMAD AKMAL SHAFIQ BIN SAHARUDIN\", 71], [\"MUHAMMAD AMIRUL UZAIR BIN SURATMAN\", 52], [\"MUHAMMAD DANIEL ISKANDAR BIN ABDUL RANI\", 64], [\"MUHAMMAD ISZIZIE IDZHAM BIN ISMAIL\", 68], [\"MUHAMMAD NUR IRHAM FIRDAUS BIN AZMI\", 50], [\"MUHAMMAD SHAZWI ALIF BIN MOHAMAD KARIM\", 61], [\"NURQISTINA BT BADERULHISHAM\", 51], [\"NURUL AFIQAH BINTI MOHAMAD NAPIS\", 61], [\"PAVETHRAN SUGAVELLAN \", 64], [\"SITI NUR IZZAH AZIEMAH BINTI ISHAK\", 69], [\"SYAFIQ IRFAN\", 59]], \"hoverlabel\": {\"namelength\": 0}, \"hovertemplate\": \"Performance Group=A<br>E3=%{customdata[1]}<br>Attendance=%{y}<br>Student Name=%{customdata[0]}\", \"legendgroup\": \"Performance Group=A\", \"marker\": {\"color\": \"#00cc96\", \"size\": 10, \"symbol\": \"circle\"}, \"mode\": \"markers\", \"name\": \"Performance Group=A\", \"showlegend\": true, \"type\": \"scatter\", \"x\": [53, 65, 69, 69, 51, 53, 65, 58, 55, 69, 64, 55, 71, 52, 64, 68, 50, 61, 51, 61, 64, 69, 59], \"xaxis\": \"x\", \"y\": [77, 82, 70, 81, 72, 77, 75, 74, 76, 81, 78, 70, 78, 76, 70, 78, 71, 80, 70, 72, 81, 70, 70], \"yaxis\": \"y\"}, {\"customdata\": [[\"AIMAN \\u2018AZEEM BIN SALIMAN YURID\", 60], [\"AIMAN EZMIL BIN JABRI\", 52], [\"AMIRAH FADHLIN DAHLAN\", 62], [\"AMIRUL AFIQ BIN MOHD RADUAN\", 57], [\"ANNE MARTHA A/P ARULNATHAN\", 53], [\"ASYMAL BIN AZHAR\", 65], [\"DANIA QISTINA\", 63], [\"FAIZ ASYRAF \", 54], [\"ILHAM ILYANA \", 50], [\"IRFAN BIN ISMAIL\", 51], [\"MOHD IFWAT\", 66], [\"MUHAMMAD ASLAM KHAN BIN MOHD RASHID KHAN\", 51], [\"MUHAMMAD IHSAN HAKIMI BIN AZMI\", 53], [\"MUHAMMAD IZZAT HELMI\", 62], [\"MUHAMMAD RIZKY ANANDA\", 59], [\"NUR AINA ZAYANI BINTI YUSAINI\", 63], [\"NUR BATRISHIYA BINTI HELWANY HAD\", 61], [\"NUR FAIQAH BINTI MAT ABDUL SHUKOR\", 57], [\"NUR IZZATI BINTI JAMALUDDIN\", 51], [\"NUR SAHIRAH ZAYYANAH\", 60], [\"NUR SYAHIRAH BINTI MOHD NASIR \", 58], [\"NURFARAH FA\\u2019IQAH BINTI DAUD\", 69], [\"SARAH IWANI BT MOHD YUSRI\", 54], [\"SUFIA JASMIN\", 50], [\"TABIBAH ZAINAB BINTI ZULKIFLI \", 52], [\"TENGKU AYESHA SOFIA BINTI TENGKU MUHAMAD ADNAN \", 52], [\"ZAHIN AZHARI\", 52]], \"hoverlabel\": {\"namelength\": 0}, \"hovertemplate\": \"Performance Group=C<br>E3=%{customdata[1]}<br>Attendance=%{y}<br>Student Name=%{customdata[0]}\", \"legendgroup\": \"Performance Group=C\", \"marker\": {\"color\": \"#ab63fa\", \"size\": 10, \"symbol\": \"circle\"}, \"mode\": \"markers\", \"name\": \"Performance Group=C\", \"showlegend\": true, \"type\": \"scatter\", \"x\": [60, 52, 62, 57, 53, 65, 63, 54, 50, 51, 66, 51, 53, 62, 59, 63, 61, 57, 51, 60, 58, 69, 54, 50, 52, 52, 52], \"xaxis\": \"x\", \"y\": [94, 83, 88, 86, 87, 86, 91, 86, 83, 91, 87, 84, 93, 91, 98, 97, 91, 86, 91, 98, 97, 88, 95, 86, 90, 85, 93], \"yaxis\": \"y\"}],\n",
              "                        {\"legend\": {\"tracegroupgap\": 0}, \"margin\": {\"t\": 60}, \"template\": {\"data\": {\"bar\": [{\"error_x\": {\"color\": \"#2a3f5f\"}, \"error_y\": {\"color\": \"#2a3f5f\"}, \"marker\": {\"line\": {\"color\": \"#E5ECF6\", \"width\": 0.5}}, \"type\": \"bar\"}], \"barpolar\": [{\"marker\": {\"line\": {\"color\": \"#E5ECF6\", \"width\": 0.5}}, \"type\": \"barpolar\"}], \"carpet\": [{\"aaxis\": {\"endlinecolor\": \"#2a3f5f\", \"gridcolor\": \"white\", \"linecolor\": \"white\", \"minorgridcolor\": \"white\", \"startlinecolor\": \"#2a3f5f\"}, \"baxis\": {\"endlinecolor\": \"#2a3f5f\", \"gridcolor\": \"white\", \"linecolor\": \"white\", \"minorgridcolor\": \"white\", \"startlinecolor\": \"#2a3f5f\"}, \"type\": \"carpet\"}], \"choropleth\": [{\"colorbar\": {\"outlinewidth\": 0, \"ticks\": \"\"}, \"type\": \"choropleth\"}], \"contour\": [{\"colorbar\": {\"outlinewidth\": 0, \"ticks\": \"\"}, \"colorscale\": [[0.0, \"#0d0887\"], [0.1111111111111111, \"#46039f\"], [0.2222222222222222, \"#7201a8\"], [0.3333333333333333, \"#9c179e\"], [0.4444444444444444, \"#bd3786\"], [0.5555555555555556, \"#d8576b\"], [0.6666666666666666, \"#ed7953\"], [0.7777777777777778, \"#fb9f3a\"], [0.8888888888888888, \"#fdca26\"], [1.0, \"#f0f921\"]], \"type\": \"contour\"}], \"contourcarpet\": [{\"colorbar\": {\"outlinewidth\": 0, \"ticks\": \"\"}, \"type\": \"contourcarpet\"}], \"heatmap\": [{\"colorbar\": {\"outlinewidth\": 0, \"ticks\": \"\"}, \"colorscale\": [[0.0, \"#0d0887\"], [0.1111111111111111, \"#46039f\"], [0.2222222222222222, \"#7201a8\"], [0.3333333333333333, \"#9c179e\"], [0.4444444444444444, \"#bd3786\"], [0.5555555555555556, \"#d8576b\"], [0.6666666666666666, \"#ed7953\"], [0.7777777777777778, \"#fb9f3a\"], [0.8888888888888888, \"#fdca26\"], [1.0, \"#f0f921\"]], \"type\": \"heatmap\"}], \"heatmapgl\": [{\"colorbar\": {\"outlinewidth\": 0, \"ticks\": \"\"}, \"colorscale\": [[0.0, \"#0d0887\"], [0.1111111111111111, \"#46039f\"], [0.2222222222222222, \"#7201a8\"], [0.3333333333333333, \"#9c179e\"], [0.4444444444444444, \"#bd3786\"], [0.5555555555555556, \"#d8576b\"], [0.6666666666666666, \"#ed7953\"], [0.7777777777777778, \"#fb9f3a\"], [0.8888888888888888, \"#fdca26\"], [1.0, \"#f0f921\"]], \"type\": \"heatmapgl\"}], \"histogram\": [{\"marker\": {\"colorbar\": {\"outlinewidth\": 0, \"ticks\": \"\"}}, \"type\": \"histogram\"}], \"histogram2d\": [{\"colorbar\": {\"outlinewidth\": 0, \"ticks\": \"\"}, \"colorscale\": [[0.0, \"#0d0887\"], [0.1111111111111111, \"#46039f\"], [0.2222222222222222, \"#7201a8\"], [0.3333333333333333, \"#9c179e\"], [0.4444444444444444, \"#bd3786\"], [0.5555555555555556, \"#d8576b\"], [0.6666666666666666, \"#ed7953\"], [0.7777777777777778, \"#fb9f3a\"], [0.8888888888888888, \"#fdca26\"], [1.0, \"#f0f921\"]], \"type\": \"histogram2d\"}], \"histogram2dcontour\": [{\"colorbar\": {\"outlinewidth\": 0, \"ticks\": \"\"}, \"colorscale\": [[0.0, \"#0d0887\"], [0.1111111111111111, \"#46039f\"], [0.2222222222222222, \"#7201a8\"], [0.3333333333333333, \"#9c179e\"], [0.4444444444444444, \"#bd3786\"], [0.5555555555555556, \"#d8576b\"], [0.6666666666666666, \"#ed7953\"], [0.7777777777777778, \"#fb9f3a\"], [0.8888888888888888, \"#fdca26\"], [1.0, \"#f0f921\"]], \"type\": \"histogram2dcontour\"}], \"mesh3d\": [{\"colorbar\": {\"outlinewidth\": 0, \"ticks\": \"\"}, \"type\": \"mesh3d\"}], \"parcoords\": [{\"line\": {\"colorbar\": {\"outlinewidth\": 0, \"ticks\": \"\"}}, \"type\": \"parcoords\"}], \"pie\": [{\"automargin\": true, \"type\": \"pie\"}], \"scatter\": [{\"marker\": {\"colorbar\": {\"outlinewidth\": 0, \"ticks\": \"\"}}, \"type\": \"scatter\"}], \"scatter3d\": [{\"line\": {\"colorbar\": {\"outlinewidth\": 0, \"ticks\": \"\"}}, \"marker\": {\"colorbar\": {\"outlinewidth\": 0, \"ticks\": \"\"}}, \"type\": \"scatter3d\"}], \"scattercarpet\": [{\"marker\": {\"colorbar\": {\"outlinewidth\": 0, \"ticks\": \"\"}}, \"type\": \"scattercarpet\"}], \"scattergeo\": [{\"marker\": {\"colorbar\": {\"outlinewidth\": 0, \"ticks\": \"\"}}, \"type\": \"scattergeo\"}], \"scattergl\": [{\"marker\": {\"colorbar\": {\"outlinewidth\": 0, \"ticks\": \"\"}}, \"type\": \"scattergl\"}], \"scattermapbox\": [{\"marker\": {\"colorbar\": {\"outlinewidth\": 0, \"ticks\": \"\"}}, \"type\": \"scattermapbox\"}], \"scatterpolar\": [{\"marker\": {\"colorbar\": {\"outlinewidth\": 0, \"ticks\": \"\"}}, \"type\": \"scatterpolar\"}], \"scatterpolargl\": [{\"marker\": {\"colorbar\": {\"outlinewidth\": 0, \"ticks\": \"\"}}, \"type\": \"scatterpolargl\"}], \"scatterternary\": [{\"marker\": {\"colorbar\": {\"outlinewidth\": 0, \"ticks\": \"\"}}, \"type\": \"scatterternary\"}], \"surface\": [{\"colorbar\": {\"outlinewidth\": 0, \"ticks\": \"\"}, \"colorscale\": [[0.0, \"#0d0887\"], [0.1111111111111111, \"#46039f\"], [0.2222222222222222, \"#7201a8\"], [0.3333333333333333, \"#9c179e\"], [0.4444444444444444, \"#bd3786\"], [0.5555555555555556, \"#d8576b\"], [0.6666666666666666, \"#ed7953\"], [0.7777777777777778, \"#fb9f3a\"], [0.8888888888888888, \"#fdca26\"], [1.0, \"#f0f921\"]], \"type\": \"surface\"}], \"table\": [{\"cells\": {\"fill\": {\"color\": \"#EBF0F8\"}, \"line\": {\"color\": \"white\"}}, \"header\": {\"fill\": {\"color\": \"#C8D4E3\"}, \"line\": {\"color\": \"white\"}}, \"type\": \"table\"}]}, \"layout\": {\"annotationdefaults\": {\"arrowcolor\": \"#2a3f5f\", \"arrowhead\": 0, \"arrowwidth\": 1}, \"coloraxis\": {\"colorbar\": {\"outlinewidth\": 0, \"ticks\": \"\"}}, \"colorscale\": {\"diverging\": [[0, \"#8e0152\"], [0.1, \"#c51b7d\"], [0.2, \"#de77ae\"], [0.3, \"#f1b6da\"], [0.4, \"#fde0ef\"], [0.5, \"#f7f7f7\"], [0.6, \"#e6f5d0\"], [0.7, \"#b8e186\"], [0.8, \"#7fbc41\"], [0.9, \"#4d9221\"], [1, \"#276419\"]], \"sequential\": [[0.0, \"#0d0887\"], [0.1111111111111111, \"#46039f\"], [0.2222222222222222, \"#7201a8\"], [0.3333333333333333, \"#9c179e\"], [0.4444444444444444, \"#bd3786\"], [0.5555555555555556, \"#d8576b\"], [0.6666666666666666, \"#ed7953\"], [0.7777777777777778, \"#fb9f3a\"], [0.8888888888888888, \"#fdca26\"], [1.0, \"#f0f921\"]], \"sequentialminus\": [[0.0, \"#0d0887\"], [0.1111111111111111, \"#46039f\"], [0.2222222222222222, \"#7201a8\"], [0.3333333333333333, \"#9c179e\"], [0.4444444444444444, \"#bd3786\"], [0.5555555555555556, \"#d8576b\"], [0.6666666666666666, \"#ed7953\"], [0.7777777777777778, \"#fb9f3a\"], [0.8888888888888888, \"#fdca26\"], [1.0, \"#f0f921\"]]}, \"colorway\": [\"#636efa\", \"#EF553B\", \"#00cc96\", \"#ab63fa\", \"#FFA15A\", \"#19d3f3\", \"#FF6692\", \"#B6E880\", \"#FF97FF\", \"#FECB52\"], \"font\": {\"color\": \"#2a3f5f\"}, \"geo\": {\"bgcolor\": \"white\", \"lakecolor\": \"white\", \"landcolor\": \"#E5ECF6\", \"showlakes\": true, \"showland\": true, \"subunitcolor\": \"white\"}, \"hoverlabel\": {\"align\": \"left\"}, \"hovermode\": \"closest\", \"mapbox\": {\"style\": \"light\"}, \"paper_bgcolor\": \"white\", \"plot_bgcolor\": \"#E5ECF6\", \"polar\": {\"angularaxis\": {\"gridcolor\": \"white\", \"linecolor\": \"white\", \"ticks\": \"\"}, \"bgcolor\": \"#E5ECF6\", \"radialaxis\": {\"gridcolor\": \"white\", \"linecolor\": \"white\", \"ticks\": \"\"}}, \"scene\": {\"xaxis\": {\"backgroundcolor\": \"#E5ECF6\", \"gridcolor\": \"white\", \"gridwidth\": 2, \"linecolor\": \"white\", \"showbackground\": true, \"ticks\": \"\", \"zerolinecolor\": \"white\"}, \"yaxis\": {\"backgroundcolor\": \"#E5ECF6\", \"gridcolor\": \"white\", \"gridwidth\": 2, \"linecolor\": \"white\", \"showbackground\": true, \"ticks\": \"\", \"zerolinecolor\": \"white\"}, \"zaxis\": {\"backgroundcolor\": \"#E5ECF6\", \"gridcolor\": \"white\", \"gridwidth\": 2, \"linecolor\": \"white\", \"showbackground\": true, \"ticks\": \"\", \"zerolinecolor\": \"white\"}}, \"shapedefaults\": {\"line\": {\"color\": \"#2a3f5f\"}}, \"ternary\": {\"aaxis\": {\"gridcolor\": \"white\", \"linecolor\": \"white\", \"ticks\": \"\"}, \"baxis\": {\"gridcolor\": \"white\", \"linecolor\": \"white\", \"ticks\": \"\"}, \"bgcolor\": \"#E5ECF6\", \"caxis\": {\"gridcolor\": \"white\", \"linecolor\": \"white\", \"ticks\": \"\"}}, \"title\": {\"x\": 0.05}, \"xaxis\": {\"automargin\": true, \"gridcolor\": \"white\", \"linecolor\": \"white\", \"ticks\": \"\", \"title\": {\"standoff\": 15}, \"zerolinecolor\": \"white\", \"zerolinewidth\": 2}, \"yaxis\": {\"automargin\": true, \"gridcolor\": \"white\", \"linecolor\": \"white\", \"ticks\": \"\", \"title\": {\"standoff\": 15}, \"zerolinecolor\": \"white\", \"zerolinewidth\": 2}}}, \"xaxis\": {\"anchor\": \"y\", \"domain\": [0.0, 1.0], \"title\": {\"text\": \"E3\"}}, \"yaxis\": {\"anchor\": \"x\", \"domain\": [0.0, 1.0], \"title\": {\"text\": \"Attendance\"}}},\n",
              "                        {\"responsive\": true}\n",
              "                    ).then(function(){\n",
              "                            \n",
              "var gd = document.getElementById('1fae7e61-1108-470a-8285-77ee7f4847c6');\n",
              "var x = new MutationObserver(function (mutations, observer) {{\n",
              "        var display = window.getComputedStyle(gd).display;\n",
              "        if (!display || display === 'none') {{\n",
              "            console.log([gd, 'removed!']);\n",
              "            Plotly.purge(gd);\n",
              "            observer.disconnect();\n",
              "        }}\n",
              "}});\n",
              "\n",
              "// Listen for the removal of the full notebook cells\n",
              "var notebookContainer = gd.closest('#notebook-container');\n",
              "if (notebookContainer) {{\n",
              "    x.observe(notebookContainer, {childList: true});\n",
              "}}\n",
              "\n",
              "// Listen for the clearing of the current output cell\n",
              "var outputEl = gd.closest('.output');\n",
              "if (outputEl) {{\n",
              "    x.observe(outputEl, {childList: true});\n",
              "}}\n",
              "\n",
              "                        })\n",
              "                };\n",
              "                \n",
              "            </script>\n",
              "        </div>\n",
              "</body>\n",
              "</html>"
            ]
          },
          "metadata": {
            "tags": []
          }
        }
      ]
    }
  ]
}